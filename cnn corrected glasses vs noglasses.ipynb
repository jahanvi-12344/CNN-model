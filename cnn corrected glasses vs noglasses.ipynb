{
 "cells": [
  {
   "cell_type": "code",
   "execution_count": 1,
   "id": "6af22daa",
   "metadata": {},
   "outputs": [],
   "source": [
    "import os\n",
    "import numpy as np\n",
    "from PIL import Image\n",
    "import matplotlib.pyplot as plt\n",
    "from keras.preprocessing.image import ImageDataGenerator\n",
    "from keras.preprocessing.image import ImageDataGenerator\n",
    "import matplotlib.pyplot as plt\n",
    "from tensorflow.keras.models import Sequential\n",
    "from tensorflow.keras.layers import Activation,Dense,Conv2D,MaxPool2D,Flatten"
   ]
  },
  {
   "cell_type": "code",
   "execution_count": 10,
   "id": "8fbabb59",
   "metadata": {},
   "outputs": [],
   "source": [
    "noglass=\"F:/Jupyter/.ipynb_checkpoints/train/noglasses\""
   ]
  },
  {
   "cell_type": "code",
   "execution_count": 4,
   "id": "5c855487",
   "metadata": {},
   "outputs": [],
   "source": [
    "glass_train=\"F:\\\\Jupyter\\\\.ipynb_checkpoints\\\\train\\\\glasses\"\n",
    "no_glass_train=\"F:\\\\Jupyter\\\\.ipynb_checkpoints\\\\train\\\\noglasses\"\n",
    "glass_validate=\"F:\\\\Jupyter\\\\.ipynb_checkpoints\\\\validate\\\\glasses\"\n",
    "no_glass_validate=\"F:\\\\Jupyter\\\\.ipynb_checkpoints\\\\validate\\\\noglasses\""
   ]
  },
  {
   "cell_type": "code",
   "execution_count": 5,
   "id": "e0d4ca74",
   "metadata": {},
   "outputs": [],
   "source": [
    "from os import listdir\n",
    "y=os.listdir(glass_train)\n",
    "n=os.lis\n",
    "y1=os.listdir(glass_validate)\n",
    "y2=os.listdir(no_glass_validate)"
   ]
  },
  {
   "cell_type": "code",
   "execution_count": 6,
   "id": "8dd1caee",
   "metadata": {},
   "outputs": [
    {
     "data": {
      "text/plain": [
       "['row-10-column-1.jpg',\n",
       " 'row-10-column-10.jpg',\n",
       " 'row-10-column-11.jpg',\n",
       " 'row-10-column-12.jpg',\n",
       " 'row-10-column-2.jpg',\n",
       " 'row-10-column-3.jpg',\n",
       " 'row-10-column-4.jpg',\n",
       " 'row-10-column-5.jpg',\n",
       " 'row-10-column-6.jpg',\n",
       " 'row-10-column-7.jpg',\n",
       " 'row-10-column-8.jpg',\n",
       " 'row-10-column-9.jpg',\n",
       " 'row-11-column-1.jpg',\n",
       " 'row-11-column-2.jpg',\n",
       " 'row-11-column-3.jpg',\n",
       " 'row-11-column-4.jpg',\n",
       " 'row-7-column-1.jpg',\n",
       " 'row-7-column-10.jpg',\n",
       " 'row-7-column-11.jpg',\n",
       " 'row-7-column-12.jpg',\n",
       " 'row-7-column-2.jpg',\n",
       " 'row-7-column-3.jpg',\n",
       " 'row-7-column-4.jpg',\n",
       " 'row-7-column-5.jpg',\n",
       " 'row-7-column-6.jpg',\n",
       " 'row-7-column-7.jpg',\n",
       " 'row-7-column-8.jpg',\n",
       " 'row-7-column-9.jpg',\n",
       " 'row-8-column-1.jpg',\n",
       " 'row-8-column-10.jpg',\n",
       " 'row-8-column-11.jpg',\n",
       " 'row-8-column-12.jpg',\n",
       " 'row-8-column-2.jpg',\n",
       " 'row-8-column-3.jpg',\n",
       " 'row-8-column-4.jpg',\n",
       " 'row-8-column-5.jpg',\n",
       " 'row-8-column-6.jpg',\n",
       " 'row-8-column-7.jpg',\n",
       " 'row-8-column-8.jpg',\n",
       " 'row-8-column-9.jpg',\n",
       " 'row-9-column-1.jpg',\n",
       " 'row-9-column-10.jpg',\n",
       " 'row-9-column-11.jpg',\n",
       " 'row-9-column-12.jpg',\n",
       " 'row-9-column-2.jpg',\n",
       " 'row-9-column-3.jpg',\n",
       " 'row-9-column-4.jpg',\n",
       " 'row-9-column-5.jpg',\n",
       " 'row-9-column-6.jpg',\n",
       " 'row-9-column-7.jpg',\n",
       " 'row-9-column-8.jpg',\n",
       " 'row-9-column-9.jpg']"
      ]
     },
     "execution_count": 6,
     "metadata": {},
     "output_type": "execute_result"
    }
   ],
   "source": [
    "n"
   ]
  },
  {
   "cell_type": "code",
   "execution_count": 14,
   "id": "665621ae",
   "metadata": {},
   "outputs": [
    {
     "name": "stdout",
     "output_type": "stream",
     "text": [
      "F:\\Jupyter\\.ipynb_checkpoints\\train\\noglasses\\row-10-column-1.jpg\n",
      "F:\\Jupyter\\.ipynb_checkpoints\\train\\noglasses\\row-10-column-10.jpg\n",
      "F:\\Jupyter\\.ipynb_checkpoints\\train\\noglasses\\row-10-column-11.jpg\n",
      "F:\\Jupyter\\.ipynb_checkpoints\\train\\noglasses\\row-10-column-12.jpg\n",
      "F:\\Jupyter\\.ipynb_checkpoints\\train\\noglasses\\row-10-column-2.jpg\n",
      "F:\\Jupyter\\.ipynb_checkpoints\\train\\noglasses\\row-10-column-3.jpg\n",
      "F:\\Jupyter\\.ipynb_checkpoints\\train\\noglasses\\row-10-column-4.jpg\n",
      "F:\\Jupyter\\.ipynb_checkpoints\\train\\noglasses\\row-10-column-5.jpg\n",
      "F:\\Jupyter\\.ipynb_checkpoints\\train\\noglasses\\row-10-column-6.jpg\n",
      "F:\\Jupyter\\.ipynb_checkpoints\\train\\noglasses\\row-10-column-7.jpg\n",
      "F:\\Jupyter\\.ipynb_checkpoints\\train\\noglasses\\row-10-column-8.jpg\n",
      "F:\\Jupyter\\.ipynb_checkpoints\\train\\noglasses\\row-10-column-9.jpg\n",
      "F:\\Jupyter\\.ipynb_checkpoints\\train\\noglasses\\row-11-column-1.jpg\n",
      "F:\\Jupyter\\.ipynb_checkpoints\\train\\noglasses\\row-11-column-2.jpg\n",
      "F:\\Jupyter\\.ipynb_checkpoints\\train\\noglasses\\row-11-column-3.jpg\n",
      "F:\\Jupyter\\.ipynb_checkpoints\\train\\noglasses\\row-11-column-4.jpg\n",
      "F:\\Jupyter\\.ipynb_checkpoints\\train\\noglasses\\row-7-column-1.jpg\n",
      "F:\\Jupyter\\.ipynb_checkpoints\\train\\noglasses\\row-7-column-10.jpg\n",
      "F:\\Jupyter\\.ipynb_checkpoints\\train\\noglasses\\row-7-column-11.jpg\n",
      "F:\\Jupyter\\.ipynb_checkpoints\\train\\noglasses\\row-7-column-12.jpg\n",
      "F:\\Jupyter\\.ipynb_checkpoints\\train\\noglasses\\row-7-column-2.jpg\n",
      "F:\\Jupyter\\.ipynb_checkpoints\\train\\noglasses\\row-7-column-3.jpg\n",
      "F:\\Jupyter\\.ipynb_checkpoints\\train\\noglasses\\row-7-column-4.jpg\n",
      "F:\\Jupyter\\.ipynb_checkpoints\\train\\noglasses\\row-7-column-5.jpg\n",
      "F:\\Jupyter\\.ipynb_checkpoints\\train\\noglasses\\row-7-column-6.jpg\n",
      "F:\\Jupyter\\.ipynb_checkpoints\\train\\noglasses\\row-7-column-7.jpg\n",
      "F:\\Jupyter\\.ipynb_checkpoints\\train\\noglasses\\row-7-column-8.jpg\n",
      "F:\\Jupyter\\.ipynb_checkpoints\\train\\noglasses\\row-7-column-9.jpg\n",
      "F:\\Jupyter\\.ipynb_checkpoints\\train\\noglasses\\row-8-column-1.jpg\n",
      "F:\\Jupyter\\.ipynb_checkpoints\\train\\noglasses\\row-8-column-10.jpg\n",
      "F:\\Jupyter\\.ipynb_checkpoints\\train\\noglasses\\row-8-column-11.jpg\n",
      "F:\\Jupyter\\.ipynb_checkpoints\\train\\noglasses\\row-8-column-12.jpg\n",
      "F:\\Jupyter\\.ipynb_checkpoints\\train\\noglasses\\row-8-column-2.jpg\n",
      "F:\\Jupyter\\.ipynb_checkpoints\\train\\noglasses\\row-8-column-3.jpg\n",
      "F:\\Jupyter\\.ipynb_checkpoints\\train\\noglasses\\row-8-column-4.jpg\n",
      "F:\\Jupyter\\.ipynb_checkpoints\\train\\noglasses\\row-8-column-5.jpg\n",
      "F:\\Jupyter\\.ipynb_checkpoints\\train\\noglasses\\row-8-column-6.jpg\n",
      "F:\\Jupyter\\.ipynb_checkpoints\\train\\noglasses\\row-8-column-7.jpg\n",
      "F:\\Jupyter\\.ipynb_checkpoints\\train\\noglasses\\row-8-column-8.jpg\n",
      "F:\\Jupyter\\.ipynb_checkpoints\\train\\noglasses\\row-8-column-9.jpg\n",
      "F:\\Jupyter\\.ipynb_checkpoints\\train\\noglasses\\row-9-column-1.jpg\n",
      "F:\\Jupyter\\.ipynb_checkpoints\\train\\noglasses\\row-9-column-10.jpg\n",
      "F:\\Jupyter\\.ipynb_checkpoints\\train\\noglasses\\row-9-column-11.jpg\n",
      "F:\\Jupyter\\.ipynb_checkpoints\\train\\noglasses\\row-9-column-12.jpg\n",
      "F:\\Jupyter\\.ipynb_checkpoints\\train\\noglasses\\row-9-column-2.jpg\n",
      "F:\\Jupyter\\.ipynb_checkpoints\\train\\noglasses\\row-9-column-3.jpg\n",
      "F:\\Jupyter\\.ipynb_checkpoints\\train\\noglasses\\row-9-column-4.jpg\n",
      "F:\\Jupyter\\.ipynb_checkpoints\\train\\noglasses\\row-9-column-5.jpg\n",
      "F:\\Jupyter\\.ipynb_checkpoints\\train\\noglasses\\row-9-column-6.jpg\n",
      "F:\\Jupyter\\.ipynb_checkpoints\\train\\noglasses\\row-9-column-7.jpg\n",
      "F:\\Jupyter\\.ipynb_checkpoints\\train\\noglasses\\row-9-column-8.jpg\n",
      "F:\\Jupyter\\.ipynb_checkpoints\\train\\noglasses\\row-9-column-9.jpg\n"
     ]
    }
   ],
   "source": [
    "for filename in n:\n",
    "    if filename.endswith('.jpg'):\n",
    "        image_path=os.path.join(no_glass_train,filename)\n",
    "        print(image_path)"
   ]
  },
  {
   "cell_type": "code",
   "execution_count": 3,
   "id": "7d14cef0",
   "metadata": {},
   "outputs": [
    {
     "name": "stdout",
     "output_type": "stream",
     "text": [
      "Found 104 images belonging to 2 classes.\n",
      "Found 40 images belonging to 2 classes.\n"
     ]
    }
   ],
   "source": [
    "tr=ImageDataGenerator()\n",
    "train=tr.flow_from_directory(directory=\"F:\\\\Jupyter\\\\.ipynb_checkpoints\\\\train\",target_size=(224,224))\n",
    "te=ImageDataGenerator()\n",
    "test=te.flow_from_directory(directory=\"F:\\\\Jupyter\\\\.ipynb_checkpoints\\\\validate\",target_size=(224,224))"
   ]
  },
  {
   "cell_type": "code",
   "execution_count": 4,
   "id": "9bc6a52e",
   "metadata": {},
   "outputs": [],
   "source": [
    "model=Sequential()\n",
    "model.add(Conv2D(input_shape=(224,224,3),activation='relu',filters=16,kernel_size=(2,2)))\n",
    "model.add(Conv2D(activation='relu',filters=16,kernel_size=(2,2)))\n",
    "model.add(MaxPool2D(pool_size=(2,2),strides=(2,2)))\n",
    "model.add(Conv2D(activation='relu',filters=16,kernel_size=(2,2)))\n",
    "model.add(Conv2D(activation='relu',filters=16,kernel_size=(2,2)))\n",
    "model.add(MaxPool2D(pool_size=(2,2),strides=(2,2)))\n",
    "model.add(Conv2D(activation='relu',filters=16,kernel_size=(2,2)))\n",
    "model.add(Conv2D(activation='relu',filters=16,kernel_size=(2,2)))\n",
    "model.add(MaxPool2D(pool_size=(2,2),strides=(2,2)))"
   ]
  },
  {
   "cell_type": "code",
   "execution_count": null,
   "id": "c7321113",
   "metadata": {},
   "outputs": [],
   "source": []
  },
  {
   "cell_type": "code",
   "execution_count": 5,
   "id": "34787b68",
   "metadata": {},
   "outputs": [
    {
     "name": "stdout",
     "output_type": "stream",
     "text": [
      "Model: \"sequential\"\n",
      "_________________________________________________________________\n",
      " Layer (type)                Output Shape              Param #   \n",
      "=================================================================\n",
      " conv2d (Conv2D)             (None, 223, 223, 16)      208       \n",
      "                                                                 \n",
      " conv2d_1 (Conv2D)           (None, 222, 222, 16)      1040      \n",
      "                                                                 \n",
      " max_pooling2d (MaxPooling2  (None, 111, 111, 16)      0         \n",
      " D)                                                              \n",
      "                                                                 \n",
      " conv2d_2 (Conv2D)           (None, 110, 110, 16)      1040      \n",
      "                                                                 \n",
      " conv2d_3 (Conv2D)           (None, 109, 109, 16)      1040      \n",
      "                                                                 \n",
      " max_pooling2d_1 (MaxPoolin  (None, 54, 54, 16)        0         \n",
      " g2D)                                                            \n",
      "                                                                 \n",
      " conv2d_4 (Conv2D)           (None, 53, 53, 16)        1040      \n",
      "                                                                 \n",
      " conv2d_5 (Conv2D)           (None, 52, 52, 16)        1040      \n",
      "                                                                 \n",
      " max_pooling2d_2 (MaxPoolin  (None, 26, 26, 16)        0         \n",
      " g2D)                                                            \n",
      "                                                                 \n",
      "=================================================================\n",
      "Total params: 5408 (21.12 KB)\n",
      "Trainable params: 5408 (21.12 KB)\n",
      "Non-trainable params: 0 (0.00 Byte)\n",
      "_________________________________________________________________\n"
     ]
    }
   ],
   "source": [
    "model.summary()"
   ]
  },
  {
   "cell_type": "code",
   "execution_count": 6,
   "id": "7a4ff55a",
   "metadata": {},
   "outputs": [],
   "source": [
    "model.add(Flatten())\n",
    "model.add(Dense(units=4096,activation='relu'))\n",
    "model.add(Dense(units=2,activation='softmax'))"
   ]
  },
  {
   "cell_type": "code",
   "execution_count": 7,
   "id": "18b2ce9a",
   "metadata": {},
   "outputs": [
    {
     "name": "stdout",
     "output_type": "stream",
     "text": [
      "Model: \"sequential\"\n",
      "_________________________________________________________________\n",
      " Layer (type)                Output Shape              Param #   \n",
      "=================================================================\n",
      " conv2d (Conv2D)             (None, 223, 223, 16)      208       \n",
      "                                                                 \n",
      " conv2d_1 (Conv2D)           (None, 222, 222, 16)      1040      \n",
      "                                                                 \n",
      " max_pooling2d (MaxPooling2  (None, 111, 111, 16)      0         \n",
      " D)                                                              \n",
      "                                                                 \n",
      " conv2d_2 (Conv2D)           (None, 110, 110, 16)      1040      \n",
      "                                                                 \n",
      " conv2d_3 (Conv2D)           (None, 109, 109, 16)      1040      \n",
      "                                                                 \n",
      " max_pooling2d_1 (MaxPoolin  (None, 54, 54, 16)        0         \n",
      " g2D)                                                            \n",
      "                                                                 \n",
      " conv2d_4 (Conv2D)           (None, 53, 53, 16)        1040      \n",
      "                                                                 \n",
      " conv2d_5 (Conv2D)           (None, 52, 52, 16)        1040      \n",
      "                                                                 \n",
      " max_pooling2d_2 (MaxPoolin  (None, 26, 26, 16)        0         \n",
      " g2D)                                                            \n",
      "                                                                 \n",
      " flatten (Flatten)           (None, 10816)             0         \n",
      "                                                                 \n",
      " dense (Dense)               (None, 4096)              44306432  \n",
      "                                                                 \n",
      " dense_1 (Dense)             (None, 2)                 8194      \n",
      "                                                                 \n",
      "=================================================================\n",
      "Total params: 44320034 (169.07 MB)\n",
      "Trainable params: 44320034 (169.07 MB)\n",
      "Non-trainable params: 0 (0.00 Byte)\n",
      "_________________________________________________________________\n"
     ]
    }
   ],
   "source": [
    "model.summary()"
   ]
  },
  {
   "cell_type": "code",
   "execution_count": 8,
   "id": "75db96e9",
   "metadata": {},
   "outputs": [],
   "source": [
    "model.compile(optimizer='adam',loss='categorical_crossentropy',metrics=['accuracy'])"
   ]
  },
  {
   "cell_type": "code",
   "execution_count": 9,
   "id": "80e0e4b4",
   "metadata": {},
   "outputs": [
    {
     "name": "stdout",
     "output_type": "stream",
     "text": [
      "Epoch 1/10\n"
     ]
    },
    {
     "name": "stderr",
     "output_type": "stream",
     "text": [
      "C:\\Users\\Samiksha\\AppData\\Local\\Temp\\ipykernel_18560\\502401492.py:1: UserWarning: `Model.fit_generator` is deprecated and will be removed in a future version. Please use `Model.fit`, which supports generators.\n",
      "  model.fit_generator(generator=train,validation_data=test,epochs=10)\n"
     ]
    },
    {
     "name": "stdout",
     "output_type": "stream",
     "text": [
      "4/4 [==============================] - 8s 2s/step - loss: 736.3868 - accuracy: 0.5192 - val_loss: 208.5346 - val_accuracy: 0.5000\n",
      "Epoch 2/10\n",
      "4/4 [==============================] - 5s 1s/step - loss: 90.4847 - accuracy: 0.5000 - val_loss: 16.8660 - val_accuracy: 0.5000\n",
      "Epoch 3/10\n",
      "4/4 [==============================] - 5s 1s/step - loss: 12.7929 - accuracy: 0.4808 - val_loss: 4.1830 - val_accuracy: 0.5000\n",
      "Epoch 4/10\n",
      "4/4 [==============================] - 5s 1s/step - loss: 3.9158 - accuracy: 0.5577 - val_loss: 5.5622 - val_accuracy: 0.5000\n",
      "Epoch 5/10\n",
      "4/4 [==============================] - 5s 1s/step - loss: 1.6446 - accuracy: 0.7115 - val_loss: 1.1456 - val_accuracy: 0.7500\n",
      "Epoch 6/10\n",
      "4/4 [==============================] - 5s 1s/step - loss: 0.6356 - accuracy: 0.8269 - val_loss: 2.4048 - val_accuracy: 0.5250\n",
      "Epoch 7/10\n",
      "4/4 [==============================] - 5s 1s/step - loss: 0.3233 - accuracy: 0.8654 - val_loss: 1.1800 - val_accuracy: 0.6750\n",
      "Epoch 8/10\n",
      "4/4 [==============================] - 5s 1s/step - loss: 0.1384 - accuracy: 0.9327 - val_loss: 2.0216 - val_accuracy: 0.6000\n",
      "Epoch 9/10\n",
      "4/4 [==============================] - 5s 1s/step - loss: 0.0841 - accuracy: 0.9808 - val_loss: 1.0683 - val_accuracy: 0.7000\n",
      "Epoch 10/10\n",
      "4/4 [==============================] - 5s 1s/step - loss: 0.0489 - accuracy: 0.9808 - val_loss: 1.6316 - val_accuracy: 0.6500\n"
     ]
    },
    {
     "data": {
      "text/plain": [
       "<keras.src.callbacks.History at 0x22f9429e140>"
      ]
     },
     "execution_count": 9,
     "metadata": {},
     "output_type": "execute_result"
    }
   ],
   "source": [
    "model.fit_generator(generator=train,validation_data=test,epochs=10)"
   ]
  },
  {
   "cell_type": "code",
   "execution_count": 12,
   "id": "35cf8735",
   "metadata": {},
   "outputs": [
    {
     "name": "stdout",
     "output_type": "stream",
     "text": [
      "2/2 [==============================] - 0s 77ms/step\n"
     ]
    },
    {
     "data": {
      "text/plain": [
       "array([[1.9628519e-07, 9.9999976e-01],\n",
       "       [1.3719152e-02, 9.8628092e-01],\n",
       "       [1.6433218e-01, 8.3566779e-01],\n",
       "       [2.8847681e-02, 9.7115237e-01],\n",
       "       [6.9989674e-02, 9.3001038e-01],\n",
       "       [6.6011364e-04, 9.9933988e-01],\n",
       "       [6.4010566e-01, 3.5989434e-01],\n",
       "       [6.1438954e-01, 3.8561046e-01],\n",
       "       [5.0940573e-05, 9.9994910e-01],\n",
       "       [7.4942541e-09, 1.0000000e+00],\n",
       "       [2.9315412e-09, 1.0000000e+00],\n",
       "       [2.0278753e-04, 9.9979728e-01],\n",
       "       [3.2056987e-04, 9.9967945e-01],\n",
       "       [2.9840483e-05, 9.9997020e-01],\n",
       "       [9.5077974e-01, 4.9220216e-02],\n",
       "       [7.4634045e-01, 2.5365949e-01],\n",
       "       [3.1542197e-02, 9.6845776e-01],\n",
       "       [6.1453254e-10, 1.0000000e+00],\n",
       "       [3.8974097e-01, 6.1025912e-01],\n",
       "       [9.5898641e-04, 9.9904102e-01],\n",
       "       [4.1503679e-02, 9.5849627e-01],\n",
       "       [1.6104219e-03, 9.9838960e-01],\n",
       "       [1.2018749e-02, 9.8798126e-01],\n",
       "       [1.3474340e-03, 9.9865258e-01],\n",
       "       [3.8663927e-03, 9.9613357e-01],\n",
       "       [9.8893201e-01, 1.1068016e-02],\n",
       "       [5.1576376e-01, 4.8423627e-01],\n",
       "       [1.8564095e-03, 9.9814355e-01],\n",
       "       [4.7685783e-03, 9.9523145e-01],\n",
       "       [2.0034949e-01, 7.9965049e-01],\n",
       "       [2.3053353e-01, 7.6946646e-01],\n",
       "       [9.1222631e-05, 9.9990880e-01],\n",
       "       [4.3955259e-03, 9.9560452e-01],\n",
       "       [1.4267176e-04, 9.9985731e-01],\n",
       "       [2.6079239e-09, 1.0000000e+00],\n",
       "       [5.6643987e-01, 4.3356013e-01],\n",
       "       [5.5316150e-01, 4.4683856e-01],\n",
       "       [2.7468041e-02, 9.7253191e-01],\n",
       "       [1.8168417e-05, 9.9998188e-01],\n",
       "       [4.8362944e-07, 9.9999952e-01]], dtype=float32)"
      ]
     },
     "execution_count": 12,
     "metadata": {},
     "output_type": "execute_result"
    }
   ],
   "source": [
    "model.predict(test)"
   ]
  },
  {
   "cell_type": "code",
   "execution_count": 15,
   "id": "9ae4a116",
   "metadata": {},
   "outputs": [
    {
     "name": "stdout",
     "output_type": "stream",
     "text": [
      "2/2 [==============================] - 0s 73ms/step - loss: 1.6316 - accuracy: 0.6500\n"
     ]
    },
    {
     "data": {
      "text/plain": [
       "[1.6316134929656982, 0.6499999761581421]"
      ]
     },
     "execution_count": 15,
     "metadata": {},
     "output_type": "execute_result"
    }
   ],
   "source": [
    "model.evaluate(test)"
   ]
  },
  {
   "cell_type": "code",
   "execution_count": null,
   "id": "c4414082",
   "metadata": {},
   "outputs": [],
   "source": []
  },
  {
   "cell_type": "code",
   "execution_count": null,
   "id": "835c139c",
   "metadata": {},
   "outputs": [],
   "source": []
  }
 ],
 "metadata": {
  "kernelspec": {
   "display_name": "Python 3 (ipykernel)",
   "language": "python",
   "name": "python3"
  },
  "language_info": {
   "codemirror_mode": {
    "name": "ipython",
    "version": 3
   },
   "file_extension": ".py",
   "mimetype": "text/x-python",
   "name": "python",
   "nbconvert_exporter": "python",
   "pygments_lexer": "ipython3",
   "version": "3.10.4"
  }
 },
 "nbformat": 4,
 "nbformat_minor": 5
}
